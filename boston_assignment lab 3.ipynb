{
 "metadata": {
  "name": "",
  "signature": "sha256:5d36649558536a814767d7c4d9c4a221f2cfc984c155e106b84f827951ea076d"
 },
 "nbformat": 3,
 "nbformat_minor": 0,
 "worksheets": [
  {
   "cells": [
    {
     "cell_type": "markdown",
     "metadata": {},
     "source": [
      "## Boston Housing Assignment\n",
      "\n",
      "In this assignment you'll be using linear regression to estimate the cost of house in boston, using a well known dataset.\n",
      "\n",
      "Goals:\n",
      "+  Measure the performance of the model I created using $R^{2}$ and MSE\n",
      "> Learn how to use sklearn.metrics.r2_score and sklearn.metrics.mean_squared_error\n",
      "+  Implement a new model using L2 regularization\n",
      "> Use sklearn.linear_model.Ridge or sklearn.linear_model.Lasso \n",
      "+  Get the best model you can by optimizing the regularization parameter.   "
     ]
    },
    {
     "cell_type": "code",
     "collapsed": false,
     "input": [
      "from sklearn import datasets\n",
      "import pandas as pd\n",
      "from sklearn.preprocessing import StandardScaler\n",
      "from sklearn.cross_validation import train_test_split\n",
      "from sklearn.metrics import mean_squared_error\n",
      "from sklearn.metrics import r2_score\n",
      "from sklearn.linear_model import LinearRegression\n",
      "from sklearn import datasets\n",
      "import pandas as pd\n",
      "%pylab inline\n",
      "from sklearn.preprocessing import StandardScaler\n",
      "from sklearn.cross_validation import train_test_split\n",
      "from sklearn.metrics import mean_squared_error\n",
      "from sklearn.metrics import r2_score\n",
      "from sklearn.linear_model import LinearRegression\n",
      "from sklearn.linear_model import Lasso\n",
      "import numpy as np\n",
      "from matplotlib import pyplot as plt\n",
      "from IPython.display import display\n",
      "from sklearn.neighbors import KNeighborsRegressor\n",
      "\n",
      "%matplotlib inline "
     ],
     "language": "python",
     "metadata": {},
     "outputs": [
      {
       "output_type": "stream",
       "stream": "stdout",
       "text": [
        "Populating the interactive namespace from numpy and matplotlib\n"
       ]
      }
     ],
     "prompt_number": 9
    },
    {
     "cell_type": "code",
     "collapsed": false,
     "input": [
      "bean = datasets.load_boston()\n",
      "print bean.DESCR"
     ],
     "language": "python",
     "metadata": {},
     "outputs": [
      {
       "output_type": "stream",
       "stream": "stdout",
       "text": [
        "Boston House Prices dataset\n",
        "\n",
        "Notes\n",
        "------\n",
        "Data Set Characteristics:  \n",
        "\n",
        "    :Number of Instances: 506 \n",
        "\n",
        "    :Number of Attributes: 13 numeric/categorical predictive\n",
        "    \n",
        "    :Median Value (attribute 14) is usually the target\n",
        "\n",
        "    :Attribute Information (in order):\n",
        "        - CRIM     per capita crime rate by town\n",
        "        - ZN       proportion of residential land zoned for lots over 25,000 sq.ft.\n",
        "        - INDUS    proportion of non-retail business acres per town\n",
        "        - CHAS     Charles River dummy variable (= 1 if tract bounds river; 0 otherwise)\n",
        "        - NOX      nitric oxides concentration (parts per 10 million)\n",
        "        - RM       average number of rooms per dwelling\n",
        "        - AGE      proportion of owner-occupied units built prior to 1940\n",
        "        - DIS      weighted distances to five Boston employment centres\n",
        "        - RAD      index of accessibility to radial highways\n",
        "        - TAX      full-value property-tax rate per $10,000\n",
        "        - PTRATIO  pupil-teacher ratio by town\n",
        "        - B        1000(Bk - 0.63)^2 where Bk is the proportion of blacks by town\n",
        "        - LSTAT    % lower status of the population\n",
        "        - MEDV     Median value of owner-occupied homes in $1000's\n",
        "\n",
        "    :Missing Attribute Values: None\n",
        "\n",
        "    :Creator: Harrison, D. and Rubinfeld, D.L.\n",
        "\n",
        "This is a copy of UCI ML housing dataset.\n",
        "http://archive.ics.uci.edu/ml/datasets/Housing\n",
        "\n",
        "\n",
        "This dataset was taken from the StatLib library which is maintained at Carnegie Mellon University.\n",
        "\n",
        "The Boston house-price data of Harrison, D. and Rubinfeld, D.L. 'Hedonic\n",
        "prices and the demand for clean air', J. Environ. Economics & Management,\n",
        "vol.5, 81-102, 1978.   Used in Belsley, Kuh & Welsch, 'Regression diagnostics\n",
        "...', Wiley, 1980.   N.B. Various transformations are used in the table on\n",
        "pages 244-261 of the latter.\n",
        "\n",
        "The Boston house-price data has been used in many machine learning papers that address regression\n",
        "problems.   \n",
        "     \n",
        "**References**\n",
        "\n",
        "   - Belsley, Kuh & Welsch, 'Regression diagnostics: Identifying Influential Data and Sources of Collinearity', Wiley, 1980. 244-261.\n",
        "   - Quinlan,R. (1993). Combining Instance-Based and Model-Based Learning. In Proceedings on the Tenth International Conference of Machine Learning, 236-243, University of Massachusetts, Amherst. Morgan Kaufmann.\n",
        "   - many more! (see http://archive.ics.uci.edu/ml/datasets/Housing)\n",
        "\n"
       ]
      }
     ],
     "prompt_number": 10
    },
    {
     "cell_type": "code",
     "collapsed": false,
     "input": [
      "def load_boston():\n",
      "    scaler = StandardScaler()\n",
      "    boston = datasets.load_boston()\n",
      "    X=boston.data\n",
      "    y=boston.target\n",
      "    X = scaler.fit_transform(X)\n",
      "    return train_test_split(X,y)\n",
      "    "
     ],
     "language": "python",
     "metadata": {},
     "outputs": [],
     "prompt_number": 11
    },
    {
     "cell_type": "code",
     "collapsed": false,
     "input": [
      "X_train, X_test, y_train, y_test = load_boston()"
     ],
     "language": "python",
     "metadata": {},
     "outputs": [],
     "prompt_number": 12
    },
    {
     "cell_type": "code",
     "collapsed": false,
     "input": [
      "X_train.shape"
     ],
     "language": "python",
     "metadata": {},
     "outputs": [
      {
       "metadata": {},
       "output_type": "pyout",
       "prompt_number": 13,
       "text": [
        "(379L, 13L)"
       ]
      }
     ],
     "prompt_number": 13
    },
    {
     "cell_type": "markdown",
     "metadata": {},
     "source": [
      "### Fitting a Linear Regression\n",
      "\n",
      "It's as easy as instantiating a new regression object (line 1) and giving your regression object your training data\n",
      "(line 2) by calling .fit(independent variables, dependent variable)\n",
      "\n"
     ]
    },
    {
     "cell_type": "code",
     "collapsed": false,
     "input": [
      "\n",
      "clf = LinearRegression()\n",
      "clf.fit(X_train, y_train)"
     ],
     "language": "python",
     "metadata": {},
     "outputs": [
      {
       "metadata": {},
       "output_type": "pyout",
       "prompt_number": 14,
       "text": [
        "LinearRegression(copy_X=True, fit_intercept=True, normalize=False)"
       ]
      }
     ],
     "prompt_number": 14
    },
    {
     "cell_type": "markdown",
     "metadata": {},
     "source": [
      "### Making a Prediction\n",
      "X_test is our holdout set of data.  We know the answer (y_test) but the computer does not.   \n",
      "\n",
      "Using the command below, I create a tuple for each observation, where I'm combining the real value (y_test) with\n",
      "the value our regressor predicts (clf.predict(X_test))\n",
      "\n",
      "Use a similiar format to get your r2 and mse metrics working.  Using the [scikit learn api](http://scikit-learn.org/stable/modules/model_evaluation.html) if you need help!"
     ]
    },
    {
     "cell_type": "code",
     "collapsed": false,
     "input": [
      "zip (y_test, clf.predict(X_test))"
     ],
     "language": "python",
     "metadata": {},
     "outputs": [
      {
       "metadata": {},
       "output_type": "pyout",
       "prompt_number": 15,
       "text": [
        "[(8.8000000000000007, 3.1683892103690319),\n",
        " (32.200000000000003, 31.607578292461916),\n",
        " (19.600000000000001, 18.170200892148173),\n",
        " (24.600000000000001, 24.622126919594308),\n",
        " (14.300000000000001, 17.108060649275707),\n",
        " (23.0, 23.728966389942876),\n",
        " (18.699999999999999, 21.503547697504676),\n",
        " (24.5, 21.635962510220704),\n",
        " (43.100000000000001, 37.772815631666262),\n",
        " (22.899999999999999, 25.328501516091503),\n",
        " (10.5, 6.1906411786703082),\n",
        " (17.100000000000001, 20.031529496609963),\n",
        " (15.699999999999999, 13.587070611736632),\n",
        " (23.100000000000001, 25.314607276906465),\n",
        " (21.199999999999999, 23.208051940866756),\n",
        " (30.100000000000001, 35.830990765990414),\n",
        " (34.899999999999999, 35.09914690809309),\n",
        " (17.600000000000001, 16.932074058604414),\n",
        " (18.699999999999999, 20.941657816523641),\n",
        " (20.0, 23.282812066355547),\n",
        " (19.899999999999999, 18.145263041163229),\n",
        " (31.699999999999999, 33.958560006194887),\n",
        " (20.899999999999999, 21.841924082575872),\n",
        " (24.800000000000001, 31.563044388925334),\n",
        " (29.0, 32.050614198639344),\n",
        " (34.700000000000003, 30.947076048585096),\n",
        " (19.399999999999999, 17.450371192584253),\n",
        " (36.100000000000001, 33.304018775243641),\n",
        " (23.0, 29.932558998046019),\n",
        " (22.300000000000001, 27.823237036782587),\n",
        " (12.0, 11.856217321570066),\n",
        " (26.399999999999999, 29.265870867275112),\n",
        " (10.4, 6.7443403761689424),\n",
        " (16.0, 18.954208913959562),\n",
        " (29.800000000000001, 33.066375233596737),\n",
        " (19.399999999999999, 23.480762665033978),\n",
        " (26.600000000000001, 28.057711601928688),\n",
        " (14.6, 19.69442893327081),\n",
        " (20.5, 20.481072802220563),\n",
        " (20.699999999999999, 25.462979887852306),\n",
        " (7.2000000000000002, 17.967752301335924),\n",
        " (22.0, 29.461285293523726),\n",
        " (16.5, 22.600800963689064),\n",
        " (17.5, 16.898487683658537),\n",
        " (21.100000000000001, 20.57002904044516),\n",
        " (19.899999999999999, 19.174939875824919),\n",
        " (14.4, 2.6549094269935374),\n",
        " (21.600000000000001, 25.856950512509556),\n",
        " (20.0, 20.458000981489072),\n",
        " (29.600000000000001, 25.126002964539673),\n",
        " (14.5, 18.48386340335702),\n",
        " (25.0, 24.535365994284469),\n",
        " (24.699999999999999, 22.868009998256248),\n",
        " (18.199999999999999, 14.002849899155251),\n",
        " (12.6, 18.355878062114897),\n",
        " (26.399999999999999, 23.180265222271547),\n",
        " (32.0, 34.021110759591579),\n",
        " (22.199999999999999, 26.254449797017642),\n",
        " (20.199999999999999, 15.738114196202053),\n",
        " (22.5, 17.818907739963436),\n",
        " (24.300000000000001, 25.056669632102476),\n",
        " (17.800000000000001, 8.8760000261075369),\n",
        " (13.800000000000001, 5.9430472535328143),\n",
        " (20.5, 24.59606072607054),\n",
        " (22.600000000000001, 24.656892799380955),\n",
        " (15.199999999999999, 11.357359525719165),\n",
        " (23.300000000000001, 25.515844896953944),\n",
        " (23.600000000000001, 29.773335342903138),\n",
        " (21.699999999999999, 20.314334425993753),\n",
        " (25.0, 29.507307506524992),\n",
        " (23.0, 19.563529532578602),\n",
        " (19.5, 20.139120870640852),\n",
        " (18.899999999999999, 14.938914630604785),\n",
        " (17.199999999999999, 17.089873771225356),\n",
        " (21.0, 23.247717762513329),\n",
        " (24.800000000000001, 27.182220148687243),\n",
        " (21.399999999999999, 21.922074121800797),\n",
        " (23.699999999999999, 27.843853034666541),\n",
        " (13.0, 17.339687272702051),\n",
        " (26.5, 25.541737861941847),\n",
        " (31.199999999999999, 28.669461951948829),\n",
        " (13.4, 13.042541895188773),\n",
        " (29.100000000000001, 31.881420063633932),\n",
        " (25.0, 23.137177844533007),\n",
        " (20.899999999999999, 21.098446153647544),\n",
        " (14.800000000000001, 14.360228368979685),\n",
        " (19.0, 14.607372434234501),\n",
        " (18.100000000000001, 16.498608665250256),\n",
        " (17.100000000000001, 17.350947564492643),\n",
        " (7.0, 7.4771514835655353),\n",
        " (19.300000000000001, 21.620899100672389),\n",
        " (13.300000000000001, 12.925369951060123),\n",
        " (22.5, 22.264298810591836),\n",
        " (32.899999999999999, 30.661705638715887),\n",
        " (17.199999999999999, 13.924101917476948),\n",
        " (23.699999999999999, 28.866058609188592),\n",
        " (18.300000000000001, 19.033492873841752),\n",
        " (25.0, 29.020147113576385),\n",
        " (37.200000000000003, 33.271755366528097),\n",
        " (13.800000000000001, 20.604797957560983),\n",
        " (31.0, 34.946057643589917),\n",
        " (22.899999999999999, 23.581387183076249),\n",
        " (31.600000000000001, 33.708435136932287),\n",
        " (48.299999999999997, 37.672153616756148),\n",
        " (12.699999999999999, 18.33484519588923),\n",
        " (23.100000000000001, 20.239143869206963),\n",
        " (9.6999999999999993, 10.016025175907062),\n",
        " (23.600000000000001, 31.213153312312087),\n",
        " (14.9, 17.80182936873554),\n",
        " (23.399999999999999, 24.39227545768513),\n",
        " (23.800000000000001, 23.402636696734),\n",
        " (12.699999999999999, 12.688552648385343),\n",
        " (17.100000000000001, 18.680185325932161),\n",
        " (30.800000000000001, 31.274693775710279),\n",
        " (10.9, 18.602320171891208),\n",
        " (50.0, 40.977731326998196),\n",
        " (23.100000000000001, 25.061652102721791),\n",
        " (33.799999999999997, 35.307561942386307),\n",
        " (33.399999999999999, 29.008820205446405),\n",
        " (35.399999999999999, 35.08402090545281),\n",
        " (50.0, 44.726619219528374),\n",
        " (14.1, 18.895855463016584),\n",
        " (19.300000000000001, 20.999025293679445),\n",
        " (23.899999999999999, 24.99505562223484),\n",
        " (25.0, 28.045465946194692),\n",
        " (24.0, 25.790770619085272),\n",
        " (20.600000000000001, 21.960376731992493)]"
       ]
      }
     ],
     "prompt_number": 15
    },
    {
     "cell_type": "raw",
     "metadata": {},
     "source": []
    },
    {
     "cell_type": "code",
     "collapsed": false,
     "input": [
      "from sklearn.datasets import *\n",
      "data = load_boston()\n",
      "print data.DESR"
     ],
     "language": "python",
     "metadata": {},
     "outputs": [
      {
       "ename": "AttributeError",
       "evalue": "'Bunch' object has no attribute 'DESR'",
       "output_type": "pyerr",
       "traceback": [
        "\u001b[1;31m---------------------------------------------------------------------------\u001b[0m\n\u001b[1;31mAttributeError\u001b[0m                            Traceback (most recent call last)",
        "\u001b[1;32m<ipython-input-16-9b48c6868d0c>\u001b[0m in \u001b[0;36m<module>\u001b[1;34m()\u001b[0m\n\u001b[0;32m      1\u001b[0m \u001b[1;32mfrom\u001b[0m \u001b[0msklearn\u001b[0m\u001b[1;33m.\u001b[0m\u001b[0mdatasets\u001b[0m \u001b[1;32mimport\u001b[0m \u001b[1;33m*\u001b[0m\u001b[1;33m\u001b[0m\u001b[0m\n\u001b[0;32m      2\u001b[0m \u001b[0mdata\u001b[0m \u001b[1;33m=\u001b[0m \u001b[0mload_boston\u001b[0m\u001b[1;33m(\u001b[0m\u001b[1;33m)\u001b[0m\u001b[1;33m\u001b[0m\u001b[0m\n\u001b[1;32m----> 3\u001b[1;33m \u001b[1;32mprint\u001b[0m \u001b[0mdata\u001b[0m\u001b[1;33m.\u001b[0m\u001b[0mDESR\u001b[0m\u001b[1;33m\u001b[0m\u001b[0m\n\u001b[0m",
        "\u001b[1;31mAttributeError\u001b[0m: 'Bunch' object has no attribute 'DESR'"
       ]
      }
     ],
     "prompt_number": 16
    },
    {
     "cell_type": "markdown",
     "metadata": {},
     "source": []
    },
    {
     "cell_type": "code",
     "collapsed": false,
     "input": [
      "from sklearn.datasets import *\n",
      "from sklearn.linear_model import LinearRegression\n",
      "\n",
      "data = load_boston()\n",
      "model = LinearRegression()\n",
      "model.fit(data.data, data.target)\n",
      "print model.__dict__\n",
      "print model.score(data.data, data.target)"
     ],
     "language": "python",
     "metadata": {},
     "outputs": [
      {
       "output_type": "stream",
       "stream": "stdout",
       "text": [
        "{'normalize': False, 'intercept_': 36.491103280360925, 'residues_': 11080.276284149873, 'fit_intercept': True, 'coef_': array([ -1.07170557e-01,   4.63952195e-02,   2.08602395e-02,\n",
        "         2.68856140e+00,  -1.77957587e+01,   3.80475246e+00,\n",
        "         7.51061703e-04,  -1.47575880e+00,   3.05655038e-01,\n",
        "        -1.23293463e-02,  -9.53463555e-01,   9.39251272e-03,\n",
        "        -5.25466633e-01]), 'copy_X': True, 'rank_': 13, 'singular_': array([  3.94958310e+03,   1.77662274e+03,   6.42864253e+02,\n",
        "         3.66980826e+02,   1.59116390e+02,   1.18692322e+02,\n",
        "         9.01718207e+01,   6.93889529e+01,   4.06572735e+01,\n",
        "         2.44223087e+01,   1.13502686e+01,   5.50918200e+00,\n",
        "         1.24178413e+00])}\n",
        "0.740607742865\n"
       ]
      }
     ],
     "prompt_number": 17
    },
    {
     "cell_type": "code",
     "collapsed": false,
     "input": [
      "from sklearn.datasets import *\n",
      "from sklearn.cross_validation import train_test_split\n",
      "\n",
      "data = load_boston()\n",
      "\n",
      "X_train, X_test, y_train, y_test = train_test_split(data.data, data.target, train_size=0.5)\n",
      "model = LinearRegression()\n",
      "model.fit(X_train, y_train)\n",
      "print \"Train R2 %f\" %model.score(X_train, y_train)\n",
      "print \"Test R2 %f\" %model.score(X_test, y_test)"
     ],
     "language": "python",
     "metadata": {},
     "outputs": [
      {
       "output_type": "stream",
       "stream": "stdout",
       "text": [
        "Train R2 0.813325\n",
        "Test R2 0.576177\n"
       ]
      }
     ],
     "prompt_number": 18
    },
    {
     "cell_type": "code",
     "collapsed": false,
     "input": [
      "from sklearn.datasets import load_boston\n",
      "boston = datasets.load_boston()\n",
      "train_data, test_data, train_target, test_target = \\\n",
      "        train_test_split(boston.data, boston.target, train_size=.8)\n",
      "train_data.shape"
     ],
     "language": "python",
     "metadata": {},
     "outputs": [
      {
       "metadata": {},
       "output_type": "pyout",
       "prompt_number": 19,
       "text": [
        "(404L, 13L)"
       ]
      }
     ],
     "prompt_number": 19
    },
    {
     "cell_type": "code",
     "collapsed": false,
     "input": [
      "from sklearn import datasets\n",
      "boston = datasets.load_boston()\n",
      "X = boston.data\n",
      "y = boston.target\n",
      "\n",
      "print X.shape\n",
      "print y.shape\n",
      "from sklearn import linear_model\n",
      "linreg = linear_model.LinearRegression()\n",
      "_=linreg.fit(train_data, train_target)"
     ],
     "language": "python",
     "metadata": {},
     "outputs": [
      {
       "output_type": "stream",
       "stream": "stdout",
       "text": [
        "(506L, 13L)\n",
        "(506L,)\n"
       ]
      }
     ],
     "prompt_number": 20
    },
    {
     "cell_type": "code",
     "collapsed": false,
     "input": [
      "from sklearn import metrics\n",
      "mse = metrics.mean_squared_error(test_target, linreg.predict(test_data)) \n",
      "print(\"MSE is {}\".format(mse))"
     ],
     "language": "python",
     "metadata": {},
     "outputs": [
      {
       "output_type": "stream",
       "stream": "stdout",
       "text": [
        "MSE is 24.0783242541\n"
       ]
      }
     ],
     "prompt_number": 8
    },
    {
     "cell_type": "code",
     "collapsed": false,
     "input": [],
     "language": "python",
     "metadata": {},
     "outputs": []
    }
   ],
   "metadata": {}
  }
 ]
}